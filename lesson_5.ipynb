{
 "cells": [
  {
   "cell_type": "code",
   "execution_count": 1,
   "id": "digital-drunk",
   "metadata": {},
   "outputs": [],
   "source": [
    "import matplotlib.pyplot as plt\n",
    "import numpy as np\n",
    "import itertools"
   ]
  },
  {
   "cell_type": "code",
   "execution_count": 2,
   "id": "subjective-religious",
   "metadata": {},
   "outputs": [
    {
     "name": "stdout",
     "output_type": "stream",
     "text": [
      "19\n"
     ]
    }
   ],
   "source": [
    "# 1.\n",
    "\n",
    "print (np.random.randint(0, 37))"
   ]
  },
  {
   "cell_type": "code",
   "execution_count": 3,
   "id": "round-afternoon",
   "metadata": {},
   "outputs": [
    {
     "name": "stdout",
     "output_type": "stream",
     "text": [
      "частота = 1.0\n"
     ]
    }
   ],
   "source": [
    "# 2.1 \n",
    "\n",
    "x = 2 # орел и решка\n",
    "n = 5 # число повторений\n",
    "\n",
    "k, m = 0, 0\n",
    "for i in range(0, n):\n",
    "    c = np.random.randint(0, x)\n",
    "    if c == 1:\n",
    "        k += 1 # орел\n",
    "    else:\n",
    "        m += 1 # решка\n",
    "\n",
    "print('частота =', k/n + m/n)"
   ]
  },
  {
   "cell_type": "code",
   "execution_count": 4,
   "id": "interior-guidance",
   "metadata": {},
   "outputs": [
    {
     "name": "stdout",
     "output_type": "stream",
     "text": [
      "[[5 0 0 1 3 8 5 5 5 7]\n",
      " [5 3 3 9 2 8 4 5 2 7]\n",
      " [9 1 1 0 5 4 4 2 3 4]\n",
      " [2 1 3 9 6 5 2 3 5 8]\n",
      " [1 8 0 3 8 7 4 6 4 4]\n",
      " [9 1 4 3 5 2 4 1 2 3]\n",
      " [9 4 6 3 6 3 4 0 1 7]\n",
      " [7 3 4 8 4 6 1 3 5 1]\n",
      " [2 1 1 4 8 8 1 5 6 5]\n",
      " [7 9 2 1 6 9 0 8 8 4]]\n",
      "[39, 48, 33, 44, 45, 34, 43, 42, 41, 54]\n"
     ]
    },
    {
     "data": {
      "image/png": "[encoded data removed]",
      "text/plain": [
       "<Figure size 432x288 with 1 Axes>"
      ]
     },
     "metadata": {
      "needs_background": "light"
     },
     "output_type": "display_data"
    }
   ],
   "source": [
    "# 2.2 \n",
    "\n",
    "x = np.random.randint(0, 10, (10, 10))\n",
    "sum_el = [sum(a) for a in x]\n",
    "print (x)\n",
    "print (sum_el)\n",
    "num_bins = 10\n",
    "plt.xlabel('x')\n",
    "plt.ylabel('Probability')\n",
    "plt.title('Histogram')\n",
    "\n",
    "h = plt.hist([sum(a) for a in x], num_bins);"
   ]
  },
  {
   "cell_type": "code",
   "execution_count": 6,
   "id": "social-montana",
   "metadata": {},
   "outputs": [
    {
     "name": "stdout",
     "output_type": "stream",
     "text": [
      "3750864 10000000\n",
      "частота = 0.3750864\n",
      "по формуле Бернулли = 0.375\n"
     ]
    }
   ],
   "source": [
    "# 3.1\n",
    "\n",
    "k, n = 0, 10000000\n",
    "\n",
    "a = np.random.randint(0, 2, n)\n",
    "b = np.random.randint(0, 2, n)\n",
    "c = np.random.randint(0, 2, n)\n",
    "d = np.random.randint(0, 2, n)\n",
    "\n",
    "x = a + b + c + d\n",
    "\n",
    "for i in range(0, n):\n",
    "    if x[i] == 2:\n",
    "        k = k + 1\n",
    "\n",
    "print(k, n)\n",
    "print('частота =', k/n)\n",
    "\n",
    "k, n = 2, 4\n",
    "coef = np.math.factorial(n)/(np.math.factorial(k)*np.math.factorial(n-k))\n",
    "p = coef/2**n\n",
    "\n",
    "print('по формуле Бернулли =', p)"
   ]
  },
  {
   "cell_type": "code",
   "execution_count": 7,
   "id": "alien-slovenia",
   "metadata": {},
   "outputs": [
    {
     "name": "stdout",
     "output_type": "stream",
     "text": [
      "коэффициент = 252.0\n",
      "по формуле Бернулли = 0.24609375\n"
     ]
    }
   ],
   "source": [
    "# 3.2\n",
    "\n",
    "n = 10 # кол-во испытаний\n",
    "k = 5 # успех\n",
    "\n",
    "coef = np.math.factorial(n)/round(np.math.factorial(k)*np.math.factorial(n-k), 1)\n",
    "print ('коэффициент =', coef)\n",
    "p = coef/2**n\n",
    "\n",
    "print('по формуле Бернулли =', p)"
   ]
  },
  {
   "cell_type": "code",
   "execution_count": 8,
   "id": "formed-tragedy",
   "metadata": {},
   "outputs": [
    {
     "name": "stdout",
     "output_type": "stream",
     "text": [
      "66\n",
      "69\n",
      "96\n",
      "99\n"
     ]
    }
   ],
   "source": [
    "# 4\n",
    "for p in itertools.product(\"69\",repeat=2):\n",
    "    print(''.join(p))"
   ]
  },
  {
   "cell_type": "code",
   "execution_count": 9,
   "id": "light-western",
   "metadata": {},
   "outputs": [
    {
     "name": "stdout",
     "output_type": "stream",
     "text": [
      "13\n",
      "16\n",
      "19\n",
      "31\n",
      "36\n",
      "39\n",
      "61\n",
      "63\n",
      "69\n",
      "91\n",
      "93\n",
      "96\n"
     ]
    }
   ],
   "source": [
    "for p in itertools.permutations(\"1369\",2):\n",
    "    print(''.join(str(x) for x in p))"
   ]
  },
  {
   "cell_type": "code",
   "execution_count": 10,
   "id": "egyptian-grounds",
   "metadata": {},
   "outputs": [
    {
     "name": "stdout",
     "output_type": "stream",
     "text": [
      "13\n",
      "16\n",
      "19\n",
      "36\n",
      "39\n",
      "69\n"
     ]
    }
   ],
   "source": [
    "for p in itertools.combinations(\"1369\",2):\n",
    "    print(''.join(p))"
   ]
  }
 ],
 "metadata": {
  "kernelspec": {
   "display_name": "Python 3",
   "language": "python",
   "name": "python3"
  },
  "language_info": {
   "codemirror_mode": {
    "name": "ipython",
    "version": 3
   },
   "file_extension": ".py",
   "mimetype": "text/x-python",
   "name": "python",
   "nbconvert_exporter": "python",
   "pygments_lexer": "ipython3",
   "version": "3.8.8"
  }
 },
 "nbformat": 4,
 "nbformat_minor": 5
}
